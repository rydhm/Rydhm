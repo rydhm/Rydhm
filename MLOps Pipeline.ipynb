{
 "cells": [
  {
   "cell_type": "code",
   "execution_count": 10,
   "metadata": {},
   "outputs": [],
   "source": [
    "import pandas as pd\n",
    "from sklearn.model_selection import train_test_split\n",
    "from sklearn.ensemble import RandomForestClassifier\n",
    "from sklearn.metrics import accuracy_score\n",
    "import joblib\n",
    "from sklearn.datasets import load_iris\n"
   ]
  },
  {
   "cell_type": "code",
   "execution_count": 9,
   "metadata": {},
   "outputs": [
    {
     "name": "stdout",
     "output_type": "stream",
     "text": [
      "Collecting scikit-learn\n",
      "  Downloading scikit_learn-1.5.2-cp312-cp312-win_amd64.whl.metadata (13 kB)\n",
      "Requirement already satisfied: numpy>=1.19.5 in c:\\users\\rydhm\\appdata\\local\\programs\\python\\python312\\lib\\site-packages (from scikit-learn) (2.1.0)\n",
      "Collecting scipy>=1.6.0 (from scikit-learn)\n",
      "  Downloading scipy-1.14.1-cp312-cp312-win_amd64.whl.metadata (60 kB)\n",
      "Collecting joblib>=1.2.0 (from scikit-learn)\n",
      "  Downloading joblib-1.4.2-py3-none-any.whl.metadata (5.4 kB)\n",
      "Collecting threadpoolctl>=3.1.0 (from scikit-learn)\n",
      "  Downloading threadpoolctl-3.5.0-py3-none-any.whl.metadata (13 kB)\n",
      "Downloading scikit_learn-1.5.2-cp312-cp312-win_amd64.whl (11.0 MB)\n",
      "   ---------------------------------------- 0.0/11.0 MB ? eta -:--:--\n",
      "   ---- ----------------------------------- 1.3/11.0 MB 8.4 MB/s eta 0:00:02\n",
      "   ------------ --------------------------- 3.4/11.0 MB 9.1 MB/s eta 0:00:01\n",
      "   -------------------- ------------------- 5.8/11.0 MB 9.8 MB/s eta 0:00:01\n",
      "   ---------------------------- ----------- 7.9/11.0 MB 9.9 MB/s eta 0:00:01\n",
      "   ------------------------------------- -- 10.2/11.0 MB 10.3 MB/s eta 0:00:01\n",
      "   ---------------------------------------  10.7/11.0 MB 10.5 MB/s eta 0:00:01\n",
      "   ---------------------------------------- 11.0/11.0 MB 8.5 MB/s eta 0:00:00\n",
      "Downloading joblib-1.4.2-py3-none-any.whl (301 kB)\n",
      "Downloading scipy-1.14.1-cp312-cp312-win_amd64.whl (44.5 MB)\n",
      "   ---------------------------------------- 0.0/44.5 MB ? eta -:--:--\n",
      "   -- ------------------------------------- 2.9/44.5 MB 15.2 MB/s eta 0:00:03\n",
      "   ----- ---------------------------------- 6.0/44.5 MB 14.2 MB/s eta 0:00:03\n",
      "   ------- -------------------------------- 8.7/44.5 MB 14.1 MB/s eta 0:00:03\n",
      "   --------- ------------------------------ 10.2/44.5 MB 12.5 MB/s eta 0:00:03\n",
      "   ---------- ----------------------------- 11.8/44.5 MB 11.5 MB/s eta 0:00:03\n",
      "   ------------ --------------------------- 13.6/44.5 MB 11.1 MB/s eta 0:00:03\n",
      "   -------------- ------------------------- 16.3/44.5 MB 11.1 MB/s eta 0:00:03\n",
      "   ---------------- ----------------------- 18.9/44.5 MB 11.3 MB/s eta 0:00:03\n",
      "   ------------------- -------------------- 21.8/44.5 MB 11.7 MB/s eta 0:00:02\n",
      "   --------------------- ------------------ 24.4/44.5 MB 11.7 MB/s eta 0:00:02\n",
      "   ------------------------ --------------- 27.3/44.5 MB 11.8 MB/s eta 0:00:02\n",
      "   --------------------------- ------------ 30.1/44.5 MB 12.1 MB/s eta 0:00:02\n",
      "   ----------------------------- ---------- 32.5/44.5 MB 12.1 MB/s eta 0:00:01\n",
      "   -------------------------------- ------- 35.7/44.5 MB 12.2 MB/s eta 0:00:01\n",
      "   ---------------------------------- ----- 38.5/44.5 MB 12.2 MB/s eta 0:00:01\n",
      "   ------------------------------------- -- 41.4/44.5 MB 12.3 MB/s eta 0:00:01\n",
      "   -------------------------------------- - 42.5/44.5 MB 12.3 MB/s eta 0:00:01\n",
      "   -------------------------------------- - 42.5/44.5 MB 12.3 MB/s eta 0:00:01\n",
      "   ---------------------------------------  43.5/44.5 MB 11.3 MB/s eta 0:00:01\n",
      "   ---------------------------------------  43.5/44.5 MB 11.3 MB/s eta 0:00:01\n",
      "   ---------------------------------------  44.3/44.5 MB 10.2 MB/s eta 0:00:01\n",
      "   ---------------------------------------- 44.5/44.5 MB 9.8 MB/s eta 0:00:00\n",
      "Downloading threadpoolctl-3.5.0-py3-none-any.whl (18 kB)\n",
      "Installing collected packages: threadpoolctl, scipy, joblib, scikit-learn\n",
      "Successfully installed joblib-1.4.2 scikit-learn-1.5.2 scipy-1.14.1 threadpoolctl-3.5.0\n",
      "Note: you may need to restart the kernel to use updated packages.\n"
     ]
    }
   ],
   "source": [
    "pip install scikit-learn"
   ]
  },
  {
   "cell_type": "code",
   "execution_count": 11,
   "metadata": {},
   "outputs": [],
   "source": [
    "def ingest_data():\n",
    "    iris_data = load_iris()\n",
    "    data = pd.DataFrame(data=iris_data.data, columns=iris_data.feature_names)\n",
    "    data['target'] = iris_data.target\n",
    "    return data\n"
   ]
  },
  {
   "cell_type": "code",
   "execution_count": 12,
   "metadata": {},
   "outputs": [],
   "source": [
    "def engineer_features(data):\n",
    "    features = data.drop('target', axis=1)\n",
    "    target = data['target']\n",
    "    return features, target\n"
   ]
  },
  {
   "cell_type": "code",
   "execution_count": 14,
   "metadata": {},
   "outputs": [],
   "source": [
    "def train_model(features, target):\n",
    "    X_train, X_test, y_train, y_test = train_test_split(features, target, test_size=0.2, random_state=42)\n",
    "    model = RandomForestClassifier(n_estimators=100)\n",
    "    model.fit(X_train, y_train)\n",
    "    predictions = model.predict(X_test)\n",
    "    print(f\"Model Accuracy: {accuracy_score(y_test, predictions)}\")\n",
    "    return model\n"
   ]
  },
  {
   "cell_type": "code",
   "execution_count": 15,
   "metadata": {},
   "outputs": [],
   "source": [
    "def deploy_model(model, model_path):\n",
    "    joblib.dump(model, model_path)\n",
    "    print(f\"Model saved to {model_path}\")\n"
   ]
  },
  {
   "cell_type": "code",
   "execution_count": 16,
   "metadata": {},
   "outputs": [
    {
     "name": "stdout",
     "output_type": "stream",
     "text": [
      "Model Accuracy: 1.0\n",
      "Model saved to model.pkl\n",
      "Model Monitoring Accuracy: 1.0\n"
     ]
    },
    {
     "data": {
      "text/plain": [
       "1.0"
      ]
     },
     "execution_count": 16,
     "metadata": {},
     "output_type": "execute_result"
    }
   ],
   "source": [
    "def monitor_model(model, features, target):\n",
    "    predictions = model.predict(features)\n",
    "    accuracy = accuracy_score(target, predictions)\n",
    "    print(f\"Model Monitoring Accuracy: {accuracy}\")\n",
    "    return accuracy\n",
    "  \n",
    "# Example usage\n",
    "data = ingest_data()\n",
    "features, target = engineer_features(data)\n",
    "model = train_model(features, target)\n",
    "deploy_model(model, 'model.pkl')\n",
    "\n",
    "# Monitor model performance with new data (using the same dataset for simplicity)\n",
    "monitor_model(model, features, target)\n"
   ]
  },
  {
   "cell_type": "code",
   "execution_count": 17,
   "metadata": {},
   "outputs": [
    {
     "name": "stdout",
     "output_type": "stream",
     "text": [
      "Model Accuracy: 1.0\n",
      "Model saved to model.pkl\n",
      "Model Monitoring Accuracy: 1.0\n"
     ]
    },
    {
     "data": {
      "text/plain": [
       "1.0"
      ]
     },
     "execution_count": 17,
     "metadata": {},
     "output_type": "execute_result"
    }
   ],
   "source": [
    "# Import necessary libraries\n",
    "import pandas as pd\n",
    "from sklearn.model_selection import train_test_split\n",
    "from sklearn.ensemble import RandomForestClassifier\n",
    "from sklearn.metrics import accuracy_score\n",
    "import joblib\n",
    "\n",
    "# Data Ingestion and Preparation\n",
    "def ingest_data():\n",
    "    # Load Iris dataset\n",
    "    url = 'https://raw.githubusercontent.com/jbrownlee/Datasets/master/iris.csv'\n",
    "    data = pd.read_csv(url, header=None)\n",
    "    data.columns = ['sepal_length', 'sepal_width', 'petal_length', 'petal_width', 'target']\n",
    "    return data\n",
    "\n",
    "# Feature Engineering\n",
    "def engineer_features(data):\n",
    "    features = data.drop('target', axis=1)\n",
    "    target = data['target']\n",
    "    return features, target\n",
    "\n",
    "# Model Training\n",
    "def train_model(features, target):\n",
    "    X_train, X_test, y_train, y_test = train_test_split(features, target, test_size=0.2, random_state=42)\n",
    "    model = RandomForestClassifier(n_estimators=100)\n",
    "    model.fit(X_train, y_train)\n",
    "    predictions = model.predict(X_test)\n",
    "    print(f\"Model Accuracy: {accuracy_score(y_test, predictions)}\")\n",
    "    return model\n",
    "\n",
    "# Model Deployment\n",
    "def deploy_model(model, model_path):\n",
    "    joblib.dump(model, model_path)\n",
    "    print(f\"Model saved to {model_path}\")\n",
    "\n",
    "# Monitoring (simple example)\n",
    "def monitor_model(model, features, target):\n",
    "    predictions = model.predict(features)\n",
    "    accuracy = accuracy_score(target, predictions)\n",
    "    print(f\"Model Monitoring Accuracy: {accuracy}\")\n",
    "    return accuracy\n",
    "\n",
    "# Example Usage\n",
    "data = ingest_data()\n",
    "features, target = engineer_features(data)\n",
    "model = train_model(features, target)\n",
    "deploy_model(model, 'model.pkl')\n",
    "\n",
    "# Monitor model performance with new data (using the same dataset for simplicity)\n",
    "monitor_model(model, features, target)\n"
   ]
  },
  {
   "cell_type": "code",
   "execution_count": null,
   "metadata": {},
   "outputs": [],
   "source": []
  }
 ],
 "metadata": {
  "kernelspec": {
   "display_name": "Python 3",
   "language": "python",
   "name": "python3"
  },
  "language_info": {
   "codemirror_mode": {
    "name": "ipython",
    "version": 3
   },
   "file_extension": ".py",
   "mimetype": "text/x-python",
   "name": "python",
   "nbconvert_exporter": "python",
   "pygments_lexer": "ipython3",
   "version": "3.12.5"
  }
 },
 "nbformat": 4,
 "nbformat_minor": 2
}
