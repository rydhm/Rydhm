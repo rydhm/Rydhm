{
 "cells": [
  {
   "cell_type": "code",
   "execution_count": null,
   "metadata": {},
   "outputs": [],
   "source": [
    "import numpy as np\n",
    "import matplotlib.pyplot as plt\n",
    "from sklearn.pipeline import Pipeline\n",
    "from sklearn.preprocessing import PolynomialFeatures\n",
    "from sklearn.linear_model import LinearRegression\n",
    "#this allows us to create a random dataset\n",
    "X = np.sort(np.random.rand(100))\n",
    "#Lets create a true function\n",
    "true_f = lambda X: np.cos(3.5 * np.pi * X)\n",
    "y = true_f(X) + np.random.randn(100) * 0.1\n",
    "degrees = [1,15]\n",
    "plt.figure(figsize=(15, 10))\n",
    "for i in range(len(degrees)):\n",
    "   ax = plt.subplot(1, len(degrees), i+1)\n",
    "   plt.setp(ax, xticks=(), yticks=())\n",
    "   polynomial_features = PolynomialFeatures(degree=degrees[i], include_bias=False)\n",
    "   linear_regression = LinearRegression()\n",
    "   #creating a structure for operation\n",
    "   pipeline = Pipeline([(\"polynomial_features\", polynomial_features),(\"linear_regression\", linear_regression)])\n",
    "   pipeline.fit(X[:, np.newaxis], y)\n",
    "   #Testing\n",
    "   X_test = np.linspace(0, 1, 100)\n",
    "   yhat = pipeline.predict(X_test[:, np.newaxis])\n",
    "   plt.plot(X_test, yhat,label=\"Model\")\n",
    "   plt.plot(X_test, true_f(X_test), label=\"True function\")\n",
    "   plt.scatter(X, y, label=\"Samples\")\n",
    "   plt.xlabel(\"x\")\n",
    "   plt.ylabel(\"y\")\n",
    "   plt.xlim((0, 1))\n",
    "   plt.ylim((-2, 2))\n",
    "   plt.legend(loc=\"best\")\n",
    "   plt.title(\"Degree %d\" % degrees[i])\n",
    "plt.show()"
   ]
  }
 ],
 "metadata": {
  "language_info": {
   "name": "python"
  }
 },
 "nbformat": 4,
 "nbformat_minor": 2
}
